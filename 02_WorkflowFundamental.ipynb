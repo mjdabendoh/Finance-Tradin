{
  "nbformat": 4,
  "nbformat_minor": 0,
  "metadata": {
    "colab": {
      "provenance": [],
      "gpuType": "T4",
      "toc_visible": true,
      "authorship_tag": "ABX9TyP/2s1WICrt2i8lYfvS5N/J",
      "include_colab_link": true
    },
    "kernelspec": {
      "name": "python3",
      "display_name": "Python 3"
    },
    "language_info": {
      "name": "python"
    },
    "accelerator": "GPU"
  },
  "cells": [
    {
      "cell_type": "markdown",
      "metadata": {
        "id": "view-in-github",
        "colab_type": "text"
      },
      "source": [
        "<a href=\"https://colab.research.google.com/github/mjdabendoh/Finance-Tradin/blob/main/02_WorkflowFundamental.ipynb\" target=\"_parent\"><img src=\"https://colab.research.google.com/assets/colab-badge.svg\" alt=\"Open In Colab\"/></a>"
      ]
    },
    {
      "cell_type": "markdown",
      "source": [
        "https://pytorch.org/docs/stable/nn.html\n",
        "\n",
        "https://www.mrdbourke.com/ml-courses/\n",
        "Zero to Mastery TensorFlow for Deep Learning is a follow-on from the first and specifically focuses on deep learning, a subset of machine learning achieving outstanding results in many fields. This course packs 60+ hours of video to take you from having a little experience with Python machine learning code to replicating state-of-the-art deep learning research papers\n",
        "\n",
        "Try  to use another model"
      ],
      "metadata": {
        "id": "R7sBhy2XkxPX"
      }
    },
    {
      "cell_type": "code",
      "execution_count": null,
      "metadata": {
        "id": "DTAlrw6UkkNg",
        "colab": {
          "base_uri": "https://localhost:8080/"
        },
        "outputId": "f9a7a7df-b4f5-4b20-df2a-34142bde41cd"
      },
      "outputs": [
        {
          "output_type": "stream",
          "name": "stdout",
          "text": [
            "torch_Version: {'2.0.1+cu118'}\n"
          ]
        }
      ],
      "source": [
        "# Create ML using linearRegression\n",
        "\n",
        "# 1 import the necessary libraries:\n",
        "import matplotlib.pyplot as plt\n",
        "import torch\n",
        "from torch import nn    # contain all the building block for neural networks\n",
        "from torch.random import manual_seed\n",
        "from torch.autograd.grad_mode import inference_mode\n",
        "\n",
        "# get the version of torch\n",
        "print(f\"torch_Version:\", {torch.__version__})\n"
      ]
    },
    {
      "cell_type": "code",
      "source": [
        "# Prepare some Data , for LinearRegression\n",
        "# => Linear Regression formula is  : y = weights * x + bias\n",
        "\n",
        "# All the usefull data store below :\n",
        "\n",
        "weights = 0.5\n",
        "bias = 0.2\n",
        "size_train = 0.8                         # use to split the size for trainig & testing data\n",
        "                                         # 0.8 mean 80% of the data will be use to train the model\n",
        "\n",
        "start = 0\n",
        "end =1\n",
        "step =0.009\n",
        "\n",
        "\n",
        "X = torch.arange(start, end, step).unsqueeze(dim =1)\n",
        "y = weights * X + bias\n",
        "\n",
        "print(len(X)), print(len(y))\n",
        "X[ :15], y[ : 15]"
      ],
      "metadata": {
        "colab": {
          "base_uri": "https://localhost:8080/"
        },
        "id": "Am776lAGx3t5",
        "outputId": "87808934-2ae7-4448-9191-aa409c92343b"
      },
      "execution_count": null,
      "outputs": [
        {
          "output_type": "stream",
          "name": "stdout",
          "text": [
            "112\n",
            "112\n"
          ]
        },
        {
          "output_type": "execute_result",
          "data": {
            "text/plain": [
              "(tensor([[0.0000],\n",
              "         [0.0090],\n",
              "         [0.0180],\n",
              "         [0.0270],\n",
              "         [0.0360],\n",
              "         [0.0450],\n",
              "         [0.0540],\n",
              "         [0.0630],\n",
              "         [0.0720],\n",
              "         [0.0810],\n",
              "         [0.0900],\n",
              "         [0.0990],\n",
              "         [0.1080],\n",
              "         [0.1170],\n",
              "         [0.1260]]),\n",
              " tensor([[0.2000],\n",
              "         [0.2045],\n",
              "         [0.2090],\n",
              "         [0.2135],\n",
              "         [0.2180],\n",
              "         [0.2225],\n",
              "         [0.2270],\n",
              "         [0.2315],\n",
              "         [0.2360],\n",
              "         [0.2405],\n",
              "         [0.2450],\n",
              "         [0.2495],\n",
              "         [0.2540],\n",
              "         [0.2585],\n",
              "         [0.2630]]))"
            ]
          },
          "metadata": {},
          "execution_count": 77
        }
      ]
    },
    {
      "cell_type": "code",
      "source": [
        "# Now we get some data , let's split for training & testing purpose\n",
        "# and let's vizualise our data\n",
        "\n",
        "# Split the data\n",
        "split_train = int(size_train*len(X))             # 80% of the data is for training\n",
        "X_train, y_train = X[ : split_train], y[ :split_train]\n",
        "X_test, y_test = X[split_train : ], y[split_train :]\n",
        "\n",
        "# Contrôle the data : data_size = 112\n",
        "len(X_train), len(y_train), len(X_test), len(y_test)"
      ],
      "metadata": {
        "colab": {
          "base_uri": "https://localhost:8080/"
        },
        "id": "IODNj2u50dCa",
        "outputId": "94787bab-1086-468b-9d9c-d21bb52ec44a"
      },
      "execution_count": null,
      "outputs": [
        {
          "output_type": "execute_result",
          "data": {
            "text/plain": [
              "(89, 89, 23, 23)"
            ]
          },
          "metadata": {},
          "execution_count": 78
        }
      ]
    },
    {
      "cell_type": "code",
      "source": [
        "# Build a method to visualize the data:\n",
        "\n",
        "def plot_predictions(train_data =X_train,\n",
        "                     train_labels =y_train,\n",
        "                     test_data =X_test,\n",
        "                     test_labels =y_test,\n",
        "                     predictions = None):\n",
        "  \"\"\"\n",
        "  Plot training, testing data & predictions ; then compares\n",
        "\n",
        "  \"\"\"\n",
        "  plt.figure(figsize =(8, 8))\n",
        "\n",
        "  # Plot training data in blue :\n",
        "  plt.scatter(train_data, train_labels, s = 8, c =\"b\", label = \"Training Data\")\n",
        "\n",
        "\n",
        "  # Plot testing data:\n",
        "  plt.scatter(test_data, test_labels, s =6,  c =\"g\", label =\"Testing Data\")\n",
        "\n",
        "  if predictions is not None:\n",
        "    # Plot predictions in red:\n",
        "    plt.scatter(test_data, predictions, s = 3, c =\"r\", label =\"Predictions\")\n",
        "\n",
        "  # Show legend :\n",
        "  plt.legend(prop ={\"size\" :14})\n",
        "  plt.show()\n",
        "\n",
        "\n"
      ],
      "metadata": {
        "id": "UBXjIbWcRbAv"
      },
      "execution_count": null,
      "outputs": []
    },
    {
      "cell_type": "code",
      "source": [
        "plot_predictions();"
      ],
      "metadata": {
        "colab": {
          "base_uri": "https://localhost:8080/",
          "height": 676
        },
        "id": "Y4paYBrketYi",
        "outputId": "381f51c1-811e-44f9-a919-3bf90553d102"
      },
      "execution_count": null,
      "outputs": [
        {
          "output_type": "display_data",
          "data": {
            "text/plain": [
              "<Figure size 800x800 with 1 Axes>"
            ],
            "image/png": "[encoded data removed]"
          },
          "metadata": {}
        }
      ]
    },
    {
      "cell_type": "markdown",
      "source": [
        "# After visualize the data , let's build our model :"
      ],
      "metadata": {
        "id": "d565cNimgcqA"
      }
    },
    {
      "cell_type": "code",
      "source": [
        "# Building the model:\n",
        "\n",
        "class LinearRegressionModel(nn.Module):                               # All the Neural network on PyTorch are a subclass of nn.Module\n",
        "  def __init__(self):\n",
        "    super().__init__()\n",
        "    # Pass the parameters, in PyTorch all the parameters start with random\n",
        "    # By default torch use float 32\n",
        "    self.weights = nn.Parameter(torch.randn(1,\n",
        "                                             dtype = torch.float),\n",
        "                                 requires_grad = True)\n",
        "\n",
        "    self.bias =nn.Parameter(torch.randn(1,\n",
        "                                         dtype =torch.float),\n",
        "                             requires_grad = True)\n",
        "\n",
        "  # All the model in PyTorch are using the forward function :\n",
        "  def forward(self, x : torch.Tensor)-> torch.Tensor:\n",
        "     # x is the input data\n",
        "     return self.weights * x + self.bias"
      ],
      "metadata": {
        "id": "ElhKR2G6gMNX"
      },
      "execution_count": null,
      "outputs": []
    },
    {
      "cell_type": "markdown",
      "source": [
        "Resource: See more of these essential modules and their uses cases in the https://pytorch.org/tutorials/beginner/ptcheat.html"
      ],
      "metadata": {
        "id": "hqlJzlOVp4DL"
      }
    },
    {
      "cell_type": "code",
      "source": [
        "# set manual seed\n",
        "torch.manual_seed(42)\n",
        "\n",
        "# let's check our model:\n",
        "model_0 = LinearRegressionModel()  # We create an instance of the model\n",
        "\n",
        "# check the nn parameter\n",
        "model_0.state_dict() , list(model_0.parameters())\n"
      ],
      "metadata": {
        "colab": {
          "base_uri": "https://localhost:8080/"
        },
        "id": "dK0e2eZXn86m",
        "outputId": "e2c3b79c-f268-4499-f952-4ac245e5cde2"
      },
      "execution_count": null,
      "outputs": [
        {
          "output_type": "execute_result",
          "data": {
            "text/plain": [
              "(OrderedDict([('weights', tensor([0.3367])), ('bias', tensor([0.1288]))]),\n",
              " [Parameter containing:\n",
              "  tensor([0.3367], requires_grad=True),\n",
              "  Parameter containing:\n",
              "  tensor([0.1288], requires_grad=True)])"
            ]
          },
          "metadata": {},
          "execution_count": 82
        }
      ]
    },
    {
      "cell_type": "code",
      "source": [
        "# Now let's make some predictions :\n",
        "\n",
        "with inference_mode():\n",
        "  y_preds =model_0(X_test)\n",
        "\n",
        "\"\"\"\n",
        "# Note that we possible use no_grad (old version)\n",
        "with no_grad():\n",
        "  y_preds = model_0(X_test)\n",
        "\"\"\""
      ],
      "metadata": {
        "colab": {
          "base_uri": "https://localhost:8080/",
          "height": 35
        },
        "id": "YDoREtx5r1o3",
        "outputId": "fd290dfb-3688-4eaf-f578-8a183ab37d84"
      },
      "execution_count": null,
      "outputs": [
        {
          "output_type": "execute_result",
          "data": {
            "text/plain": [
              "'\\n# Note that we possible use no_grad (old version)\\nwith no_grad():\\n  y_preds = model_0(X_test)\\n'"
            ],
            "application/vnd.google.colaboratory.intrinsic+json": {
              "type": "string"
            }
          },
          "metadata": {},
          "execution_count": 83
        }
      ]
    },
    {
      "cell_type": "code",
      "source": [
        "# Check the predictions\n",
        "print(f\"Number of testing samples: {len(X_test)}\")\n",
        "print(f\"Number of predictions made: {len(y_preds)}\")\n",
        "print(f\"Predicted values:\\n{y_preds}\")"
      ],
      "metadata": {
        "colab": {
          "base_uri": "https://localhost:8080/"
        },
        "id": "59AB58E6EG4m",
        "outputId": "4882d384-6109-4432-d7ae-da01e3f7559d"
      },
      "execution_count": null,
      "outputs": [
        {
          "output_type": "stream",
          "name": "stdout",
          "text": [
            "Number of testing samples: 23\n",
            "Number of predictions made: 23\n",
            "Predicted values:\n",
            "tensor([[0.3985],\n",
            "        [0.4015],\n",
            "        [0.4046],\n",
            "        [0.4076],\n",
            "        [0.4106],\n",
            "        [0.4136],\n",
            "        [0.4167],\n",
            "        [0.4197],\n",
            "        [0.4227],\n",
            "        [0.4258],\n",
            "        [0.4288],\n",
            "        [0.4318],\n",
            "        [0.4349],\n",
            "        [0.4379],\n",
            "        [0.4409],\n",
            "        [0.4440],\n",
            "        [0.4470],\n",
            "        [0.4500],\n",
            "        [0.4530],\n",
            "        [0.4561],\n",
            "        [0.4591],\n",
            "        [0.4621],\n",
            "        [0.4652]])\n"
          ]
        }
      ]
    },
    {
      "cell_type": "code",
      "source": [
        "# Check the gap between our predictions & the ideal output\n",
        "y_preds-y_test # Enormous gap"
      ],
      "metadata": {
        "colab": {
          "base_uri": "https://localhost:8080/"
        },
        "id": "rFAtOyvFtS3j",
        "outputId": "29043005-868d-4319-f32d-fa9c4f1458ec"
      },
      "execution_count": null,
      "outputs": [
        {
          "output_type": "execute_result",
          "data": {
            "text/plain": [
              "tensor([[-0.2020],\n",
              "        [-0.2035],\n",
              "        [-0.2049],\n",
              "        [-0.2064],\n",
              "        [-0.2079],\n",
              "        [-0.2094],\n",
              "        [-0.2108],\n",
              "        [-0.2123],\n",
              "        [-0.2138],\n",
              "        [-0.2152],\n",
              "        [-0.2167],\n",
              "        [-0.2182],\n",
              "        [-0.2196],\n",
              "        [-0.2211],\n",
              "        [-0.2226],\n",
              "        [-0.2240],\n",
              "        [-0.2255],\n",
              "        [-0.2270],\n",
              "        [-0.2285],\n",
              "        [-0.2299],\n",
              "        [-0.2314],\n",
              "        [-0.2329],\n",
              "        [-0.2343]])"
            ]
          },
          "metadata": {},
          "execution_count": 85
        }
      ]
    },
    {
      "cell_type": "code",
      "source": [
        "plot_predictions(predictions =y_preds)"
      ],
      "metadata": {
        "colab": {
          "base_uri": "https://localhost:8080/",
          "height": 676
        },
        "id": "cS5Zco5QtAfk",
        "outputId": "b5bf22b2-5ff1-4a23-b7b6-54bb79479f4f"
      },
      "execution_count": null,
      "outputs": [
        {
          "output_type": "display_data",
          "data": {
            "text/plain": [
              "<Figure size 800x800 with 1 Axes>"
            ],
            "image/png": "[encoded data removed]"
          },
          "metadata": {}
        }
      ]
    },
    {
      "cell_type": "code",
      "source": [
        "# Now we are working to reduce this gap, and make our model close to what we must to predict\n",
        "\n",
        "# 1 Calculate the loss :\n",
        "loss_fn = nn.L1Loss()\n",
        "\n",
        "# 2 Optimize the zero grad\n",
        "optimizer  = torch.optim.SGD(model_0.parameters(), lr =0.01)\n",
        "\n",
        "# Try this optim\n",
        "#optimizer  = torch.optim.SGD(model_0.parameters(), lr =0.01, momentum=0.9)"
      ],
      "metadata": {
        "id": "nTd67gdPtsIE"
      },
      "execution_count": null,
      "outputs": []
    },
    {
      "cell_type": "code",
      "source": [
        "# Put all together :\n",
        "torch.manual_seed(42)\n",
        "\n",
        "epochs = 100\n",
        "\n",
        "#Create an empty to records the loss :\n",
        "loss_test_values =[]\n",
        "loss_train_values =[]\n",
        "\n",
        "epoch_count = []\n",
        "\n",
        "# Training loop :\n",
        "for epoch in range (epochs) :\n",
        "\n",
        "  #put the model in trainig mode:\n",
        "  model_0.train()\n",
        "\n",
        "  # pass the data through the model:\n",
        "  y_pred = model_0(X_train)\n",
        "\n",
        "  #Calculate the loss:\n",
        "  loss = loss_fn(y_pred, y_train)\n",
        "\n",
        "  #pass the optimizer to zero grad :\n",
        "  optimizer.zero_grad()\n",
        "\n",
        "  # loss backward:\n",
        "  loss.backward()\n",
        "\n",
        "  #progress the optimizer\n",
        "  optimizer.step()\n",
        "\n",
        "  # put the model in testing mode :\n",
        "  model_0.eval()\n",
        "\n",
        "  #testing loop:\n",
        "  with inference_mode():\n",
        "\n",
        "    # forward pass on test data :\n",
        "    test_pred =model_0(X_test)\n",
        "\n",
        "    #Calculate loss on test data:\n",
        "    test_loss = loss_fn(test_pred, y_test.type(torch.float))\n",
        "\n",
        "    # print what happening :\n",
        "    if epoch % 10 == 0:\n",
        "      epoch_count.append(epoch)\n",
        "      loss_test_values.append(test_loss.detach().numpy())\n",
        "      loss_train_values.append(loss.detach().numpy())\n",
        "      print(f\"Epoch:{epoch}| MAE Train Loss:{loss}| MAE Test Loss:{test_loss}\")"
      ],
      "metadata": {
        "colab": {
          "base_uri": "https://localhost:8080/"
        },
        "id": "Ox8tgOuX5WFM",
        "outputId": "9d2b739b-58a7-4a10-9611-abc5fd8d278e"
      },
      "execution_count": null,
      "outputs": [
        {
          "output_type": "stream",
          "name": "stdout",
          "text": [
            "Epoch:0| MAE Train Loss:0.13586121797561646| MAE Test Loss:0.20460525155067444\n",
            "Epoch:10| MAE Train Loss:0.031350065022706985| MAE Test Loss:0.07974007725715637\n",
            "Epoch:20| MAE Train Loss:0.01974097080528736| MAE Test Loss:0.046757087111473083\n",
            "Epoch:30| MAE Train Loss:0.016286563128232956| MAE Test Loss:0.03765277937054634\n",
            "Epoch:40| MAE Train Loss:0.012854557484388351| MAE Test Loss:0.02947928011417389\n",
            "Epoch:50| MAE Train Loss:0.009422662667930126| MAE Test Loss:0.02161606028676033\n",
            "Epoch:60| MAE Train Loss:0.0059913452714681625| MAE Test Loss:0.013442562893033028\n",
            "Epoch:70| MAE Train Loss:0.002565048635005951| MAE Test Loss:0.0049624391831457615\n",
            "Epoch:80| MAE Train Loss:0.00365628395229578| MAE Test Loss:0.006340547930449247\n",
            "Epoch:90| MAE Train Loss:0.00365628395229578| MAE Test Loss:0.006340547930449247\n"
          ]
        }
      ]
    },
    {
      "cell_type": "code",
      "source": [
        "# Plot the loss curves\n",
        "plt.plot(epoch_count, loss_train_values, label =\"Train Loss\")\n",
        "plt.plot(epoch_count, loss_test_values, label =\"Test Loss\")\n",
        "plt.title(\"Training & Testing Loss Curves\")\n",
        "plt.ylabel(\"Loss\")\n",
        "plt.xlabel(\"Epochs\")\n",
        "plt.legend();"
      ],
      "metadata": {
        "colab": {
          "base_uri": "https://localhost:8080/",
          "height": 472
        },
        "id": "QjNC4cTLoH7J",
        "outputId": "56fcefdd-d5bc-433e-f215-b6b7ab3fa030"
      },
      "execution_count": null,
      "outputs": [
        {
          "output_type": "display_data",
          "data": {
            "text/plain": [
              "<Figure size 640x480 with 1 Axes>"
            ],
            "image/png": "[encoded data removed]"
          },
          "metadata": {}
        }
      ]
    },
    {
      "cell_type": "code",
      "source": [
        "# Let's inspect with the original data\n",
        "print(\"The model learned the following values for weights & bias:\")\n",
        "print(model_0.state_dict())\n",
        "print(\"\\nAnd the original values for weights & bias are:\")\n",
        "print(f\"weights :{weights}, \\nbias :{bias}\")"
      ],
      "metadata": {
        "colab": {
          "base_uri": "https://localhost:8080/"
        },
        "id": "zMboWxr0qKkC",
        "outputId": "e19153e4-1243-4864-8340-da67448a405f"
      },
      "execution_count": null,
      "outputs": [
        {
          "output_type": "stream",
          "name": "stdout",
          "text": [
            "The model learned the following values for weights & bias:\n",
            "OrderedDict([('weights', tensor([0.4929])), ('bias', tensor([0.1991]))])\n",
            "\n",
            "And the original values for weights & bias are:\n",
            "weights :0.5, \n",
            "bias :0.2\n"
          ]
        }
      ]
    },
    {
      "cell_type": "code",
      "source": [
        "# 1. Set the model in evaluation mode\n",
        "model_0.eval()\n",
        "\n",
        "# 2. Setup the inference mode context manager\n",
        "with torch.inference_mode():\n",
        "  # 3. Make sure the calculations are done with the model and data on the same device\n",
        "  # in our case, we haven't setup device-agnostic code yet so our data and model are\n",
        "  # on the CPU by default.\n",
        "  # model_0.to(device)\n",
        "  # X_test = X_test.to(device)\n",
        "  y_preds = model_0(X_test)\n",
        "y_preds"
      ],
      "metadata": {
        "colab": {
          "base_uri": "https://localhost:8080/"
        },
        "id": "4Yknn8XXtc00",
        "outputId": "fc70a853-1db7-48b0-add1-a28cc2c7f729"
      },
      "execution_count": null,
      "outputs": [
        {
          "output_type": "execute_result",
          "data": {
            "text/plain": [
              "tensor([[0.5940],\n",
              "        [0.5984],\n",
              "        [0.6028],\n",
              "        [0.6073],\n",
              "        [0.6117],\n",
              "        [0.6162],\n",
              "        [0.6206],\n",
              "        [0.6250],\n",
              "        [0.6295],\n",
              "        [0.6339],\n",
              "        [0.6383],\n",
              "        [0.6428],\n",
              "        [0.6472],\n",
              "        [0.6516],\n",
              "        [0.6561],\n",
              "        [0.6605],\n",
              "        [0.6650],\n",
              "        [0.6694],\n",
              "        [0.6738],\n",
              "        [0.6783],\n",
              "        [0.6827],\n",
              "        [0.6871],\n",
              "        [0.6916]])"
            ]
          },
          "metadata": {},
          "execution_count": 91
        }
      ]
    },
    {
      "cell_type": "code",
      "source": [
        "plot_predictions(predictions =y_preds)"
      ],
      "metadata": {
        "colab": {
          "base_uri": "https://localhost:8080/",
          "height": 676
        },
        "id": "uK-X5V7ytiLy",
        "outputId": "c18f77e8-ee84-45ac-c9db-175b492344f1"
      },
      "execution_count": null,
      "outputs": [
        {
          "output_type": "display_data",
          "data": {
            "text/plain": [
              "<Figure size 800x800 with 1 Axes>"
            ],
            "image/png": "[encoded data removed]"
          },
          "metadata": {}
        }
      ]
    },
    {
      "cell_type": "markdown",
      "source": [
        "saving mode:\n",
        "https://pytorch.org/tutorials/beginner/saving_loading_models.html#saving-loading-model-for-inference"
      ],
      "metadata": {
        "id": "_PmRQEraOT6E"
      }
    },
    {
      "cell_type": "code",
      "source": [
        "from pathlib import Path\n",
        "\n",
        "# 1 Create models directory\n",
        "MODEL_PATH =Path(\"models\")\n",
        "MODEL_PATH.mkdir(parents = True, exist_ok=True)\n",
        "\n",
        "# 2 Create model save path\n",
        "MODEL_NAME =\"02_WorkflowFundamental.pth\"\n",
        "MODEL_SAVE_PATH =MODEL_PATH / MODEL_NAME\n",
        "\n",
        "# 3 Save the model state dict\n",
        "print(f\"Saving model to :{MODEL_SAVE_PATH}\")\n",
        "torch.save(obj = model_0.state_dict(), f = MODEL_SAVE_PATH)   #only saving the state_dict() only saves the models learned parameters"
      ],
      "metadata": {
        "colab": {
          "base_uri": "https://localhost:8080/"
        },
        "id": "-Kp4zvRMuBtD",
        "outputId": "9dececc2-3125-4469-9dd5-fd28f1293934"
      },
      "execution_count": null,
      "outputs": [
        {
          "output_type": "stream",
          "name": "stdout",
          "text": [
            "Saving model to :models/02_WorkflowFundamental.pth\n"
          ]
        }
      ]
    },
    {
      "cell_type": "code",
      "source": [
        "# Check the saved file path\n",
        "!ls -l models/02_WorkflowFundamental.pth"
      ],
      "metadata": {
        "colab": {
          "base_uri": "https://localhost:8080/"
        },
        "id": "gdVpFT2Clca-",
        "outputId": "300cc4a1-ea78-4930-adc1-e6e5e4f749e6"
      },
      "execution_count": null,
      "outputs": [
        {
          "output_type": "stream",
          "name": "stdout",
          "text": [
            "-rw-r--r-- 1 root root 1187 Jul 16 09:25 models/02_WorkflowFundamental.pth\n"
          ]
        }
      ]
    },
    {
      "cell_type": "markdown",
      "source": [
        "# Comme from MDBOURNE ⁉## Loading a saved PyTorch model's `state_dict()`\n",
        "\n",
        "Since we've now got a saved model `state_dict()` at `models/01_pytorch_workflow_model_0.pth` we can now load it in using `torch.nn.Module.load_state_dict(torch.load(f))` where `f` is the filepath of our saved model `state_dict()`.\n",
        "\n",
        "Why call `torch.load()` inside `torch.nn.Module.load_state_dict()`?\n",
        "\n",
        "Because we only saved the model's `state_dict()` which is a dictionary of learned parameters and not the *entire* model, we first have to load the `state_dict()` with `torch.load()` and then pass that `state_dict()` to a new instance of our model (which is a subclass of `nn.Module`).\n",
        "\n",
        "Why not save the entire model?\n",
        "\n",
        "[Saving the entire model](https://pytorch.org/tutorials/beginner/saving_loading_models.html#save-load-entire-model) rather than just the `state_dict()` is more intuitive, however, to quote the PyTorch documentation (italics mine):\n",
        "\n",
        "> The disadvantage of this approach *(saving the whole model)* is that the serialized data is bound to the specific classes and the exact directory structure used when the model is saved...\n",
        ">\n",
        "> Because of this, your code can break in various ways when used in other projects or after refactors.\n",
        "\n",
        "So instead, we're using the flexible method of saving and loading just the `state_dict()`, which again is basically a dictionary of model parameters.\n",
        "\n",
        "Let's test it out by created another instance of `LinearRegressionModel()`, which is a subclass of `torch.nn.Module` and will hence have the in-built method `load_state_dict()`."
      ],
      "metadata": {
        "id": "gKAUiIcQq2cl"
      }
    },
    {
      "cell_type": "code",
      "source": [
        "# Loading a saved model:\n",
        "# Instantiate a new instance of our model:\n",
        "loaded_model_0 =LinearRegressionModel()\n",
        "\n",
        "# Load the state_dict of our saved model\n",
        "loaded_model_0.load_state_dict(torch.load(f=MODEL_SAVE_PATH))"
      ],
      "metadata": {
        "colab": {
          "base_uri": "https://localhost:8080/"
        },
        "id": "Xi-9GX1Zqq-o",
        "outputId": "0782df65-e4f7-42b2-a055-c4c89c9d641e"
      },
      "execution_count": null,
      "outputs": [
        {
          "output_type": "execute_result",
          "data": {
            "text/plain": [
              "<All keys matched successfully>"
            ]
          },
          "metadata": {},
          "execution_count": 95
        }
      ]
    },
    {
      "cell_type": "markdown",
      "source": [
        "Now we can test our model passing to the evaluate mode"
      ],
      "metadata": {
        "id": "ITjKN4O7thwG"
      }
    },
    {
      "cell_type": "code",
      "source": [
        "# 1 Put the loaded  model into evaluation mode:\n",
        "loaded_model_0.eval()\n",
        "\n",
        "# 2 Use the inference mode to get the predictions :\n",
        "with torch.inference_mode():\n",
        "  loaded_model_preds = loaded_model_0(X_test) # perform a forward pass on the test data with loaded model"
      ],
      "metadata": {
        "id": "2KVNh9a3trPv"
      },
      "execution_count": null,
      "outputs": []
    },
    {
      "cell_type": "code",
      "source": [
        "# Compare previous predictions with the loaded predictions:\n",
        "y_preds == loaded_model_preds"
      ],
      "metadata": {
        "colab": {
          "base_uri": "https://localhost:8080/"
        },
        "id": "jSRN0uQnwupC",
        "outputId": "9beb2683-691f-4c1b-b316-696a7c805ebd"
      },
      "execution_count": null,
      "outputs": [
        {
          "output_type": "execute_result",
          "data": {
            "text/plain": [
              "tensor([[True],\n",
              "        [True],\n",
              "        [True],\n",
              "        [True],\n",
              "        [True],\n",
              "        [True],\n",
              "        [True],\n",
              "        [True],\n",
              "        [True],\n",
              "        [True],\n",
              "        [True],\n",
              "        [True],\n",
              "        [True],\n",
              "        [True],\n",
              "        [True],\n",
              "        [True],\n",
              "        [True],\n",
              "        [True],\n",
              "        [True],\n",
              "        [True],\n",
              "        [True],\n",
              "        [True],\n",
              "        [True]])"
            ]
          },
          "metadata": {},
          "execution_count": 97
        }
      ]
    },
    {
      "cell_type": "markdown",
      "source": [
        "FROM MDB:\n",
        "Nice!\n",
        "\n",
        "It looks like the loaded model predictions are the same as the previous model predictions (predictions made prior to saving). This indicates our model is saving and loading as expected.\n",
        "\n",
        "> **Note:** There are more methods to save and load PyTorch models but I'll leave these for extra-curriculum and further reading. See the [PyTorch guide for saving and loading models](https://pytorch.org/tutorials/beginner/saving_loading_models.html#saving-and-loading-models) for more."
      ],
      "metadata": {
        "id": "CiPQHd3ExSKN"
      }
    },
    {
      "cell_type": "markdown",
      "source": [
        "## 6. Putting it all together\n",
        "\n",
        "We've covered a fair bit of ground so far.\n",
        "\n",
        "But once you've had some practice, you'll be performing the above steps like dancing down the street.\n",
        "\n",
        "Speaking of practice, let's put everything we've done so far together.\n",
        "\n",
        "Except this time we'll make our code device agnostic (so if there's a GPU available, it'll use it and if not, it will default to the CPU).\n",
        "\n",
        "There'll be far less commentary in this section than above since what we're going to go through has already been covered.\n",
        "\n",
        "We'll start by importing the standard libraries we need.\n",
        "\n",
        "> **Note:** If you're using Google Colab, to setup a GPU, go to Runtime -> Change runtime type -> Hardware acceleration -> GPU. If you do this, it will reset the Colab runtime and you will lose saved variables."
      ],
      "metadata": {
        "id": "xqXbsh6TxYnw"
      }
    },
    {
      "cell_type": "code",
      "source": [
        "# Import PyTorch and matplotlib\n",
        "import torch\n",
        "from torch import nn # nn contains all of PyTorch's building blocks for neural networks\n",
        "import matplotlib.pyplot as plt\n",
        "\n",
        "# Check PyTorch version\n",
        "print(f\"TorchVersion : {torch.__version__}\")"
      ],
      "metadata": {
        "colab": {
          "base_uri": "https://localhost:8080/"
        },
        "id": "th9BQKhNxawT",
        "outputId": "c7006ff6-62c4-4190-ecf9-389eabe599fa"
      },
      "execution_count": null,
      "outputs": [
        {
          "output_type": "stream",
          "name": "stdout",
          "text": [
            "TorchVersion : 2.0.1+cu118\n"
          ]
        }
      ]
    },
    {
      "cell_type": "code",
      "source": [
        "device = \"cuda\" if torch.cuda.is_available() else \"cpu\"\n",
        "print(f\"Using device : {device}\")"
      ],
      "metadata": {
        "colab": {
          "base_uri": "https://localhost:8080/"
        },
        "id": "CT8dBTye1Hzp",
        "outputId": "a41531ca-6f92-44d0-b6aa-b5d20688f3c0"
      },
      "execution_count": null,
      "outputs": [
        {
          "output_type": "stream",
          "name": "stdout",
          "text": [
            "Using device : cuda\n"
          ]
        }
      ]
    },
    {
      "cell_type": "markdown",
      "source": [
        "6.1 We are using the data from the example not as we done before , just to have another look.\n",
        "\n",
        "# Think to rewrite all the process untill the saving mode , with input mode => Just to have an integrated model"
      ],
      "metadata": {
        "id": "s3LqrUe22WSJ"
      }
    },
    {
      "cell_type": "code",
      "source": [
        "# Prepare some Data , for LinearRegression\n",
        "# => Linear Regression formula is  : y = weights * x + bias\n",
        "\n",
        "# All the usefull data store below :\n",
        "\n",
        "weights = 0.5\n",
        "bias = 0.2\n",
        "size_train = 0.8                         # use to split the size for trainig & testing data\n",
        "                                         # 0.8 mean 80% of the data will be use to train the model\n",
        "\n",
        "start = 0\n",
        "end =1\n",
        "step =0.009\n",
        "\n",
        "\n",
        "X = torch.arange(start, end, step).unsqueeze(dim =1)\n",
        "y = weights * X + bias\n",
        "\n",
        "print(len(X)), print(len(y))\n",
        "X[ :15], y[ : 15]"
      ],
      "metadata": {
        "colab": {
          "base_uri": "https://localhost:8080/"
        },
        "id": "LBZsM4UA2FI6",
        "outputId": "12cffd9d-1bb6-42e3-881a-eba24baf92d7"
      },
      "execution_count": null,
      "outputs": [
        {
          "output_type": "stream",
          "name": "stdout",
          "text": [
            "112\n",
            "112\n"
          ]
        },
        {
          "output_type": "execute_result",
          "data": {
            "text/plain": [
              "(tensor([[0.0000],\n",
              "         [0.0090],\n",
              "         [0.0180],\n",
              "         [0.0270],\n",
              "         [0.0360],\n",
              "         [0.0450],\n",
              "         [0.0540],\n",
              "         [0.0630],\n",
              "         [0.0720],\n",
              "         [0.0810],\n",
              "         [0.0900],\n",
              "         [0.0990],\n",
              "         [0.1080],\n",
              "         [0.1170],\n",
              "         [0.1260]]),\n",
              " tensor([[0.2000],\n",
              "         [0.2045],\n",
              "         [0.2090],\n",
              "         [0.2135],\n",
              "         [0.2180],\n",
              "         [0.2225],\n",
              "         [0.2270],\n",
              "         [0.2315],\n",
              "         [0.2360],\n",
              "         [0.2405],\n",
              "         [0.2450],\n",
              "         [0.2495],\n",
              "         [0.2540],\n",
              "         [0.2585],\n",
              "         [0.2630]]))"
            ]
          },
          "metadata": {},
          "execution_count": 100
        }
      ]
    },
    {
      "cell_type": "markdown",
      "source": [
        "Now split the data"
      ],
      "metadata": {
        "id": "oaXT_8B83GZR"
      }
    },
    {
      "cell_type": "code",
      "source": [
        "# Split data\n",
        "train_split = int(0.8 * len(X))\n",
        "X_train, y_train = X[:train_split], y[:train_split]\n",
        "X_test, y_test = X[train_split:], y[train_split:]\n",
        "\n",
        "len(X_train), len(y_train), len(X_test), len(y_test)"
      ],
      "metadata": {
        "colab": {
          "base_uri": "https://localhost:8080/"
        },
        "id": "kbLVtaec3It8",
        "outputId": "5211af30-aa5e-4186-e25f-e418ece0007c"
      },
      "execution_count": null,
      "outputs": [
        {
          "output_type": "execute_result",
          "data": {
            "text/plain": [
              "(89, 89, 23, 23)"
            ]
          },
          "metadata": {},
          "execution_count": 101
        }
      ]
    },
    {
      "cell_type": "code",
      "source": [
        "# Visualize the data\n",
        "# Note: If you've reset your runtime, this function won't work,\n",
        "# you'll have to rerun the cell above where it's instantiated.\n",
        "plot_predictions(X_train, y_train, X_test, y_test)"
      ],
      "metadata": {
        "colab": {
          "base_uri": "https://localhost:8080/",
          "height": 676
        },
        "id": "HprK3JD63SxC",
        "outputId": "56ede6f2-c46d-4d50-ebd8-17f7f9541314"
      },
      "execution_count": null,
      "outputs": [
        {
          "output_type": "display_data",
          "data": {
            "text/plain": [
              "<Figure size 800x800 with 1 Axes>"
            ],
            "image/png": "[encoded data removed]"
          },
          "metadata": {}
        }
      ]
    },
    {
      "cell_type": "markdown",
      "source": [
        "# 6.2 Building a PyTorch linear model\n",
        "\n",
        "We've got some data, now it's time to make a model.\n",
        "\n",
        "We'll create the same style of model as before except this time, instead of defining the weight and bias parameters of our model manually using `nn.Parameter()`, we'll use [`nn.Linear(in_features, out_features)`](https://pytorch.org/docs/stable/generated/torch.nn.Linear.html) to do it for us.\n",
        "\n",
        "Where `in_features` is the number of dimensions your input data has and `out_features` is the number of dimensions you'd like it to be output to.\n",
        "\n",
        "In our case, both of these are `1` since our data has `1` input feature (`X`) per label (`y`).\n",
        "\n",
        "![comparison of nn.Parameter Linear Regression model and nn.Linear Linear Regression model](https://raw.githubusercontent.com/mrdbourke/pytorch-deep-learning/main/images/01-pytorch-linear-regression-model-with-nn-Parameter-and-nn-Linear-compared.png)\n",
        "*Creating a linear regression model using `nn.Parameter` versus using `nn.Linear`. There are plenty more examples of where the `torch.nn` module has pre-built computations, including many popular and useful neural network layers.*\n"
      ],
      "metadata": {
        "id": "KDPlCikz4K98"
      }
    },
    {
      "cell_type": "code",
      "source": [
        "# Subclass nn.Module to make our model\n",
        "class LinearRegressionModelV2(nn.Module):\n",
        "    def __init__(self):\n",
        "        super().__init__()\n",
        "        # Use nn.Linear() for creating the model parameters\n",
        "        self.linear_layer = nn.Linear(in_features=1,\n",
        "                                      out_features=1)\n",
        "\n",
        "    # Define the forward computation (input data x flows through nn.Linear())\n",
        "    def forward(self, x: torch.Tensor) -> torch.Tensor:\n",
        "        return self.linear_layer(x)\n",
        "\n",
        "# Set the manual seed when creating the model (this isn't always need but is used for demonstrative purposes, try commenting it out and seeing what happens)\n",
        "torch.manual_seed(42)\n",
        "model_1 = LinearRegressionModelV2()\n",
        "model_1, model_1.state_dict()"
      ],
      "metadata": {
        "colab": {
          "base_uri": "https://localhost:8080/"
        },
        "id": "ZgcD9Ip64VC3",
        "outputId": "192376b7-af5d-4db5-cfd8-1027d3c455f1"
      },
      "execution_count": null,
      "outputs": [
        {
          "output_type": "execute_result",
          "data": {
            "text/plain": [
              "(LinearRegressionModelV2(\n",
              "   (linear_layer): Linear(in_features=1, out_features=1, bias=True)\n",
              " ),\n",
              " OrderedDict([('linear_layer.weight', tensor([[0.7645]])),\n",
              "              ('linear_layer.bias', tensor([0.8300]))]))"
            ]
          },
          "metadata": {},
          "execution_count": 103
        }
      ]
    },
    {
      "cell_type": "markdown",
      "source": [
        "Notice the outputs of model_1.state_dict(), the nn.Linear() layer created a random weight and bias parameter for us.\n",
        "\n",
        "Now let's put our model on the GPU (if it's available).\n",
        "\n",
        "We can change the device our PyTorch objects are on using .to(device).\n",
        "\n",
        "First let's check the model's current device."
      ],
      "metadata": {
        "id": "0srYDgWn8HpU"
      }
    },
    {
      "cell_type": "code",
      "source": [
        "# Check model device\n",
        "next(model_1.parameters()).device"
      ],
      "metadata": {
        "colab": {
          "base_uri": "https://localhost:8080/"
        },
        "id": "0vYh09i28Jp5",
        "outputId": "d1cf7056-7cb7-4885-9c11-fb86060e32e9"
      },
      "execution_count": null,
      "outputs": [
        {
          "output_type": "execute_result",
          "data": {
            "text/plain": [
              "device(type='cpu')"
            ]
          },
          "metadata": {},
          "execution_count": 104
        }
      ]
    },
    {
      "cell_type": "markdown",
      "source": [
        "the model is on the CPU by default.\n",
        "\n",
        "Let's change it to be on the GPU (if it's available)."
      ],
      "metadata": {
        "id": "3UUc4ozV8dnD"
      }
    },
    {
      "cell_type": "code",
      "source": [
        "# Set model to GPU if it's availalble, otherwise it'll default to CPU\n",
        "model_1.to(device) # the device variable was set above to be \"cuda\" if available or \"cpu\" if not\n",
        "next(model_1.parameters()).device"
      ],
      "metadata": {
        "colab": {
          "base_uri": "https://localhost:8080/"
        },
        "id": "EHyfx5ae8nZz",
        "outputId": "4e1b5a9d-b60c-427e-d230-f5f176260f41"
      },
      "execution_count": null,
      "outputs": [
        {
          "output_type": "execute_result",
          "data": {
            "text/plain": [
              "device(type='cuda', index=0)"
            ]
          },
          "metadata": {},
          "execution_count": 105
        }
      ]
    },
    {
      "cell_type": "markdown",
      "source": [
        "6.3 Training\n",
        "Time to build a training and testing loop.\n",
        "\n",
        "First we'll need a loss function and an optimizer.\n",
        "\n",
        "Let's use the same functions we used earlier, nn.L1Loss() and torch.optim.SGD().\n",
        "\n",
        "We'll have to pass the new model's parameters (model.parameters()) to the optimizer for it to adjust them during training.\n",
        "\n",
        "The learning rate of 0.01 worked well before too so let's use that again."
      ],
      "metadata": {
        "id": "TKjAhFYD85Ty"
      }
    },
    {
      "cell_type": "code",
      "source": [
        "# Create loss function\n",
        "loss_fn = nn.L1Loss()\n",
        "\n",
        "# Create optimizer\n",
        "optimizer = torch.optim.SGD(params=model_1.parameters(), # optimize newly created model's parameters\n",
        "                            lr=0.01)"
      ],
      "metadata": {
        "id": "0gUFIert89cm"
      },
      "execution_count": null,
      "outputs": []
    },
    {
      "cell_type": "markdown",
      "source": [
        "Beautiful, loss function and optimizer ready, now let's train and evaluate our model using a training and testing loop.\n",
        "\n",
        "The only different thing we'll be doing in this step compared to the previous training loop is putting the data on the target device.\n",
        "\n",
        "We've already put our model on the target device using model_1.to(device).\n",
        "\n",
        "And we can do the same with the data.\n",
        "\n",
        "That way if the model is on the GPU, the data is on the GPU (and vice versa).\n",
        "\n",
        "Let's step things up a notch this time and set epochs=1000.\n",
        "\n",
        "If you need a reminder of the PyTorch training loop steps, see below.\n",
        "\n",
        "PyTorch training loop steps"
      ],
      "metadata": {
        "id": "3LWkJwp-9Fff"
      }
    },
    {
      "cell_type": "code",
      "source": [
        "torch.manual_seed(42)\n",
        "\n",
        "# Set the number of epochs\n",
        "epochs = 1000\n",
        "\n",
        "# Put data on the available device\n",
        "# Without this, error will happen (not all model/data on device)\n",
        "X_train = X_train.to(device)\n",
        "X_test = X_test.to(device)\n",
        "y_train = y_train.to(device)\n",
        "y_test = y_test.to(device)\n",
        "\n",
        "for epoch in range(epochs):\n",
        "    ### Training\n",
        "    model_1.train() # train mode is on by default after construction\n",
        "\n",
        "    # 1. Forward pass\n",
        "    y_pred = model_1(X_train)\n",
        "\n",
        "    # 2. Calculate loss\n",
        "    loss = loss_fn(y_pred, y_train)\n",
        "\n",
        "    # 3. Zero grad optimizer\n",
        "    optimizer.zero_grad()\n",
        "\n",
        "    # 4. Loss backward\n",
        "    loss.backward()\n",
        "\n",
        "    # 5. Step the optimizer\n",
        "    optimizer.step()\n",
        "\n",
        "    ### Testing\n",
        "    model_1.eval() # put the model in evaluation mode for testing (inference)\n",
        "    # 1. Forward pass\n",
        "    with torch.inference_mode():\n",
        "        test_pred = model_1(X_test)\n",
        "\n",
        "        # 2. Calculate the loss\n",
        "        test_loss = loss_fn(test_pred, y_test)\n",
        "\n",
        "    if epoch % 100 == 0:\n",
        "        print(f\"Epoch: {epoch} | Train loss: {loss} | Test loss: {test_loss}\")"
      ],
      "metadata": {
        "colab": {
          "base_uri": "https://localhost:8080/"
        },
        "id": "G6asHMsy9L5v",
        "outputId": "e42763f4-205b-4146-ce2b-dc103a4eed50"
      },
      "execution_count": null,
      "outputs": [
        {
          "output_type": "stream",
          "name": "stdout",
          "text": [
            "Epoch: 0 | Train loss: 0.7347651124000549 | Test loss: 0.8545286059379578\n",
            "Epoch: 100 | Train loss: 0.005596892908215523 | Test loss: 0.013560350053012371\n",
            "Epoch: 200 | Train loss: 0.005596892908215523 | Test loss: 0.013560350053012371\n",
            "Epoch: 300 | Train loss: 0.005596892908215523 | Test loss: 0.013560350053012371\n",
            "Epoch: 400 | Train loss: 0.005596892908215523 | Test loss: 0.013560350053012371\n",
            "Epoch: 500 | Train loss: 0.005596892908215523 | Test loss: 0.013560350053012371\n",
            "Epoch: 600 | Train loss: 0.005596892908215523 | Test loss: 0.013560350053012371\n",
            "Epoch: 700 | Train loss: 0.005596892908215523 | Test loss: 0.013560350053012371\n",
            "Epoch: 800 | Train loss: 0.005596892908215523 | Test loss: 0.013560350053012371\n",
            "Epoch: 900 | Train loss: 0.005596892908215523 | Test loss: 0.013560350053012371\n"
          ]
        }
      ]
    },
    {
      "cell_type": "code",
      "source": [
        "# Let's check the parameters our model has learned and compare them to the original parameters we hard-coded.\n",
        "# Find our model's learned parameters\n",
        "from pprint import pprint # pprint = pretty print, see: https://docs.python.org/3/library/pprint.html\n",
        "print(\"The model learned the following values for weights and bias:\")\n",
        "pprint(model_1.state_dict())\n",
        "print(\"\\nAnd the original values for weights and bias are:\")\n",
        "print(f\"weights: {weight}, bias: {bias}\")"
      ],
      "metadata": {
        "colab": {
          "base_uri": "https://localhost:8080/"
        },
        "id": "4hT3SWtp-CeQ",
        "outputId": "3a319798-89d8-4069-85a5-1df0283fcf62"
      },
      "execution_count": null,
      "outputs": [
        {
          "output_type": "stream",
          "name": "stdout",
          "text": [
            "The model learned the following values for weights and bias:\n",
            "OrderedDict([('linear_layer.weight', tensor([[0.5111]], device='cuda:0')),\n",
            "             ('linear_layer.bias', tensor([0.1900], device='cuda:0'))])\n",
            "\n",
            "And the original values for weights and bias are:\n",
            "weights: 0.7, bias: 0.2\n"
          ]
        }
      ]
    },
    {
      "cell_type": "markdown",
      "source": [
        "# 6.4 Making predictions\n",
        "Now we've got a trained model, let's turn on it's evaluation mode and make some predictions."
      ],
      "metadata": {
        "id": "TJ8SEhR6-VuH"
      }
    },
    {
      "cell_type": "code",
      "source": [
        "# Turn model into evaluation mode\n",
        "model_1.eval()\n",
        "\n",
        "# Make predictions on the test data\n",
        "with torch.inference_mode():\n",
        "    y_preds = model_1(X_test)\n",
        "y_preds"
      ],
      "metadata": {
        "colab": {
          "base_uri": "https://localhost:8080/"
        },
        "id": "pmx_u0CS-XfN",
        "outputId": "8446a129-6e4e-42d3-f94a-efd291a721c4"
      },
      "execution_count": null,
      "outputs": [
        {
          "output_type": "execute_result",
          "data": {
            "text/plain": [
              "tensor([[0.5994],\n",
              "        [0.6040],\n",
              "        [0.6086],\n",
              "        [0.6132],\n",
              "        [0.6178],\n",
              "        [0.6224],\n",
              "        [0.6270],\n",
              "        [0.6316],\n",
              "        [0.6362],\n",
              "        [0.6408],\n",
              "        [0.6454],\n",
              "        [0.6500],\n",
              "        [0.6546],\n",
              "        [0.6592],\n",
              "        [0.6638],\n",
              "        [0.6684],\n",
              "        [0.6730],\n",
              "        [0.6776],\n",
              "        [0.6822],\n",
              "        [0.6868],\n",
              "        [0.6914],\n",
              "        [0.6960],\n",
              "        [0.7006]], device='cuda:0')"
            ]
          },
          "metadata": {},
          "execution_count": 109
        }
      ]
    },
    {
      "cell_type": "markdown",
      "source": [
        "If you're making predictions with data on the GPU, you might notice the output of the above has `device='cuda:0'` towards the end. That means the data is on CUDA device 0 (the first GPU your system has access to due to zero-indexing), if you end up using multiple GPUs in the future, this number may be higher.\n",
        "\n",
        "Now let's plot our model's predictions.\n",
        "\n",
        "> **Note:** Many data science libraries such as pandas, matplotlib and NumPy aren't capable of using data that is stored on GPU. So you might run into some issues when trying to use a function from one of these libraries with tensor data not stored on the CPU. To fix this, you can call [`.cpu()`](https://pytorch.org/docs/stable/generated/torch.Tensor.cpu.html) on your target tensor to return a copy of your target tensor on the CPU."
      ],
      "metadata": {
        "id": "glARTBTw-y_n"
      }
    },
    {
      "cell_type": "code",
      "source": [
        "# plot_predictions(predictions=y_preds) # -> won't work... data not on CPU\n",
        "\n",
        "# Put data on the CPU and plot it\n",
        "plot_predictions(predictions=y_preds.cpu())"
      ],
      "metadata": {
        "colab": {
          "base_uri": "https://localhost:8080/",
          "height": 676
        },
        "id": "aCqiy_Yt-9Pj",
        "outputId": "9aaf5492-15ed-4f75-87b1-59b3bd30fa7d"
      },
      "execution_count": null,
      "outputs": [
        {
          "output_type": "display_data",
          "data": {
            "text/plain": [
              "<Figure size 800x800 with 1 Axes>"
            ],
            "image/png": "[encoded data removed]"
          },
          "metadata": {}
        }
      ]
    },
    {
      "cell_type": "markdown",
      "source": [
        "# 6.5 Saving and loading a model\n",
        "We're happy with our models predictions, so let's save it to file so it can be used later.\n",
        "\n"
      ],
      "metadata": {
        "id": "IAccsnL4BSyj"
      }
    },
    {
      "cell_type": "code",
      "source": [
        "from pathlib import Path\n",
        "\n",
        "# 1. Create models directory\n",
        "MODEL_PATH = Path(\"models\")\n",
        "MODEL_PATH.mkdir(parents=True, exist_ok=True)\n",
        "\n",
        "# 2. Create model save path\n",
        "MODEL_NAME = \"01_pytorch_workflow_model_1.pth\"\n",
        "MODEL_SAVE_PATH = MODEL_PATH / MODEL_NAME\n",
        "\n",
        "# 3. Save the model state dict\n",
        "print(f\"Saving model to: {MODEL_SAVE_PATH}\")\n",
        "torch.save(obj=model_1.state_dict(), # only saving the state_dict() only saves the models learned parameters\n",
        "           f=MODEL_SAVE_PATH)"
      ],
      "metadata": {
        "colab": {
          "base_uri": "https://localhost:8080/"
        },
        "id": "Ktqsy-QMBmI5",
        "outputId": "5bde0aed-b1cd-4343-f2f4-06e3d0181bad"
      },
      "execution_count": null,
      "outputs": [
        {
          "output_type": "stream",
          "name": "stdout",
          "text": [
            "Saving model to: models/01_pytorch_workflow_model_1.pth\n"
          ]
        }
      ]
    },
    {
      "cell_type": "markdown",
      "source": [
        "And just to make sure everything worked well, let's load it back in.\n",
        "\n",
        "We'll:\n",
        "\n",
        "Create a new instance of the LinearRegressionModelV2() class\n",
        "Load in the model state dict using torch.nn.Module.load_state_dict()\n",
        "Send the new instance of the model to the target device (to ensure our code is device-agnostic)\n"
      ],
      "metadata": {
        "id": "sUDd2D6AB3tt"
      }
    },
    {
      "cell_type": "code",
      "source": [
        "# Instantiate a fresh instance of LinearRegressionModelV2\n",
        "loaded_model_1 = LinearRegressionModelV2()\n",
        "\n",
        "# Load model state dict\n",
        "loaded_model_1.load_state_dict(torch.load(MODEL_SAVE_PATH))\n",
        "\n",
        "# Put model to target device (if your data is on GPU, model will have to be on GPU to make predictions)\n",
        "loaded_model_1.to(device)\n",
        "\n",
        "print(f\"Loaded model:\\n{loaded_model_1}\")\n",
        "print(f\"Model on device:\\n{next(loaded_model_1.parameters()).device}\")"
      ],
      "metadata": {
        "colab": {
          "base_uri": "https://localhost:8080/"
        },
        "id": "ZNs0566xB78y",
        "outputId": "6e84b4a4-0cb6-4fa4-998e-110b5fd91413"
      },
      "execution_count": null,
      "outputs": [
        {
          "output_type": "stream",
          "name": "stdout",
          "text": [
            "Loaded model:\n",
            "LinearRegressionModelV2(\n",
            "  (linear_layer): Linear(in_features=1, out_features=1, bias=True)\n",
            ")\n",
            "Model on device:\n",
            "cuda:0\n"
          ]
        }
      ]
    },
    {
      "cell_type": "code",
      "source": [
        "# Evaluate loaded model\n",
        "loaded_model_1.eval()\n",
        "with torch.inference_mode():\n",
        "    loaded_model_1_preds = loaded_model_1(X_test)\n",
        "y_preds == loaded_model_1_preds"
      ],
      "metadata": {
        "id": "pVt9Ju27CDko",
        "outputId": "71fc77c8-85bb-4617-8e60-10daba05ac77",
        "colab": {
          "base_uri": "https://localhost:8080/"
        }
      },
      "execution_count": null,
      "outputs": [
        {
          "output_type": "execute_result",
          "data": {
            "text/plain": [
              "tensor([[True],\n",
              "        [True],\n",
              "        [True],\n",
              "        [True],\n",
              "        [True],\n",
              "        [True],\n",
              "        [True],\n",
              "        [True],\n",
              "        [True],\n",
              "        [True],\n",
              "        [True],\n",
              "        [True],\n",
              "        [True],\n",
              "        [True],\n",
              "        [True],\n",
              "        [True],\n",
              "        [True],\n",
              "        [True],\n",
              "        [True],\n",
              "        [True],\n",
              "        [True],\n",
              "        [True],\n",
              "        [True]], device='cuda:0')"
            ]
          },
          "metadata": {},
          "execution_count": 113
        }
      ]
    }
  ]
}