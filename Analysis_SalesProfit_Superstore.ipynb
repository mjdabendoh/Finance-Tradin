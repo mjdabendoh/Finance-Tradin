{
  "nbformat": 4,
  "nbformat_minor": 0,
  "metadata": {
    "colab": {
      "provenance": [],
      "authorship_tag": "ABX9TyOab3UPtttHyQNRPqMEgDXB",
      "include_colab_link": true
    },
    "kernelspec": {
      "name": "python3",
      "display_name": "Python 3"
    },
    "language_info": {
      "name": "python"
    }
  },
  "cells": [
    {
      "cell_type": "markdown",
      "metadata": {
        "id": "view-in-github",
        "colab_type": "text"
      },
      "source": [
        "<a href=\"https://colab.research.google.com/github/mjdabendoh/Finance-Tradin/blob/main/Analysis_SalesProfit_Superstore.ipynb\" target=\"_parent\"><img src=\"https://colab.research.google.com/assets/colab-badge.svg\" alt=\"Open In Colab\"/></a>"
      ]
    },
    {
      "cell_type": "markdown",
      "source": [
        "Analysis of sales-profit for superstore sales data from tableau user group using TFX"
      ],
      "metadata": {
        "id": "ly5gKahgvsH0"
      }
    },
    {
      "cell_type": "code",
      "execution_count": null,
      "metadata": {
        "id": "SCsWPHF8vq1O"
      },
      "outputs": [],
      "source": [
        "# For data analysis & Visualization\n",
        "import pandas as pd\n",
        "import numpy as np\n",
        "\n",
        "import matplotlib.pyplot as plt\n",
        "import seaborn as sns\n",
        "\n",
        "import tensorflow as tf\n",
        "import tensorflow_data_validation as tfdv\n",
        "\n",
        "from google.colab import files\n",
        "from google.colab import data_table\n",
        "from datetime import datetime\n",
        "\n",
        "\n",
        "# For the model\n",
        "from sklearn.model_selection import train_test_split\n",
        "from sklearn.linear_model import Lasso\n",
        "from sklearn.metrics import r2_score\n",
        "from sklearn.pipeline import Pipeline\n",
        "from sklearn.preprocessing import StandardScaler\n",
        "from sklearn import set_config\n",
        "\n",
        "\n",
        "%matplotlib inline\n",
        "\n",
        "print('TF version:', tf.__version__)\n",
        "print('TFDV version:', tfdv.__version__)\n",
        "\n",
        "print(\"\\nAll the module are imported \\nSo, enjoy your analyse !!!\")"
      ]
    },
    {
      "cell_type": "code",
      "source": [
        "from google.colab import files\n",
        "\n",
        "uploaded = files.upload()"
      ],
      "metadata": {
        "id": "irll1h7izbZe"
      },
      "execution_count": null,
      "outputs": []
    },
    {
      "cell_type": "code",
      "source": [
        "base_excelx ='/content/Sample - Superstore.xlsx'\n",
        "\n",
        "df = pd.read_excel(base_excelx)\n",
        "df.head()"
      ],
      "metadata": {
        "id": "ktP2isAD0o7K"
      },
      "execution_count": null,
      "outputs": []
    },
    {
      "cell_type": "code",
      "source": [
        "from google.colab import data_table\n",
        "\n",
        "\n",
        "data_table.enable_dataframe_formatter()\n",
        "\n",
        "DataFrame = df\n",
        "DataFrame.head()"
      ],
      "metadata": {
        "id": "m7XRbshDAS9T"
      },
      "execution_count": null,
      "outputs": []
    },
    {
      "cell_type": "code",
      "source": [
        "DataFrame.info()"
      ],
      "metadata": {
        "id": "J2W95LgVNs_z"
      },
      "execution_count": null,
      "outputs": []
    },
    {
      "source": [
        "# @title Discount vs Profit\n",
        "\n",
        "from matplotlib import pyplot as plt\n",
        "DataFrame.plot(kind='scatter', x='Discount', y='Profit', s=32, alpha=.8)\n",
        "plt.gca().spines[['top', 'right',]].set_visible(False)"
      ],
      "cell_type": "code",
      "execution_count": null,
      "outputs": [],
      "metadata": {
        "cellView": "form",
        "id": "tM53lYlDDNSG"
      }
    },
    {
      "cell_type": "code",
      "source": [
        "DataFrame = DataFrame.drop(['Row ID','Order ID','Customer ID','Customer Name','Product ID'], axis=1)\n",
        "DataFrame.head()"
      ],
      "metadata": {
        "id": "Rr3RqIOv1vrz"
      },
      "execution_count": null,
      "outputs": []
    },
    {
      "cell_type": "code",
      "source": [
        "# convert the columns date in to a date time columns\n",
        "DataFrame['Order Date'] =pd.to_datetime(df['Order Date'], format ='%Y-%m%-d')\n",
        "DataFrame.info()"
      ],
      "metadata": {
        "id": "eoY_em244GUr"
      },
      "execution_count": null,
      "outputs": []
    },
    {
      "cell_type": "code",
      "source": [
        "# Now we will parse the date\n",
        "DataFrame['Order_Date_year'] = df['Order Date'].dt.year\n",
        "DataFrame['Order_Date_month']= df['Order Date'].dt.month\n",
        "DataFrame['Order_Date_day']  = df['Order Date'].dt.day\n",
        "\n",
        "DataFrame['Ship_Date_year'] = df['Ship Date'].dt.year\n",
        "DataFrame['Ship_Date_month'] = df['Ship Date'].dt.month\n",
        "DataFrame['Ship_Date_day'] = df['Ship Date'].dt.day\n",
        "\n",
        "DataFrame.info()"
      ],
      "metadata": {
        "id": "XGCPwNR-1vxQ"
      },
      "execution_count": null,
      "outputs": []
    },
    {
      "cell_type": "code",
      "source": [
        "# Most of the features are categorical , they have to be converted to numerical by\n",
        "# One-Hot-Encoding from pandas get_dummies\n",
        "\n",
        "encoded_df = pd.get_dummies(DataFrame, columns =\n",
        "                    ['Ship Mode', 'Segment', 'Country', 'City', 'State', 'Postal Code',\n",
        "                     'Region', 'Category', 'Sub-Category', 'Product Name', 'Quantity',\n",
        "                     'Order_Date_year', 'Order_Date_month', 'Order_Date_day',\n",
        "                     'Ship_Date_year', 'Ship_Date_month', 'Ship_Date_day'\n",
        "                    ])\n",
        "encoded_df.head()\n",
        "# Quantity amount is numerical but is considered as categorical\n",
        "# Because quantity amount varies between 1 and 14 and that too in whole integer numbers"
      ],
      "metadata": {
        "id": "rmdh_SHz1v2M"
      },
      "execution_count": null,
      "outputs": []
    },
    {
      "cell_type": "code",
      "source": [
        "DataFrame = DataFrame.drop(['Order Date', 'Ship Date'], axis =1)\n",
        "DataFrame.info()"
      ],
      "metadata": {
        "id": "kidWBkld52rt"
      },
      "execution_count": null,
      "outputs": []
    },
    {
      "cell_type": "code",
      "source": [
        "# Convert the Pandas DataFrame to a TensorFlow Dataset\n",
        "dataset = tf.data.Dataset.from_tensor_slices(dict(DataFrame))\n",
        "\n",
        "# Calculate statistics using tfdv.generate_statistics_from_dataframe\n",
        "stats = tfdv.generate_statistics_from_dataframe(DataFrame)\n",
        "\n",
        "# Visualize the statistics\n",
        "tfdv.visualize_statistics(stats)"
      ],
      "metadata": {
        "id": "CjxOjfLV1vkQ"
      },
      "execution_count": null,
      "outputs": []
    },
    {
      "cell_type": "code",
      "source": [
        "# Display a schema\n",
        "schema = tfdv.infer_schema(stats)\n",
        "tfdv.display_schema(schema)"
      ],
      "metadata": {
        "id": "yA5aRfCq8ZQ0"
      },
      "execution_count": null,
      "outputs": []
    },
    {
      "cell_type": "markdown",
      "source": [
        "Building the model\n",
        "We will use Lasso regression model to identify the most important feature as Lasso Zero out the\n",
        "no important coefficients and we can avoid overfitting"
      ],
      "metadata": {
        "id": "eqyRqOV0Q05M"
      }
    },
    {
      "cell_type": "code",
      "source": [
        "# First we divide the dataset into target and features:\n",
        "\n",
        "DataFrame_x = encoded_df[(x for x in encoded_df if x not in ('Profit'))]\n",
        "DataFrame_y = encoded_df[['Profit']]"
      ],
      "metadata": {
        "id": "kg7_eqj09Gmr"
      },
      "execution_count": 59,
      "outputs": []
    },
    {
      "cell_type": "code",
      "source": [
        "df_x.head()"
      ],
      "metadata": {
        "id": "ZbFGjJv7VSTt"
      },
      "execution_count": null,
      "outputs": []
    },
    {
      "cell_type": "code",
      "source": [
        "# For fitting the model in Lasso all the features must be scaled by StandardScaler via a pipeline\n",
        "\n",
        "lasso_model = Lasso()\n",
        "lasso_pl = Pipeline(steps =[('scaler', StandardScaler()),('lasso', lasso_model)])\n",
        "lasso_pl.fit(DataFrame_x, DataFrame_y)\n",
        "pred_y = lasso_pl.predict(DataFrame_x)\n",
        "lasso_model_r2val = r2_score(DataFrame_y, pred_y)\n",
        "\n",
        "print(f\"Lasso can explain: {lasso_model_r2val}\")"
      ],
      "metadata": {
        "id": "NCch-hMD9FMk"
      },
      "execution_count": null,
      "outputs": []
    }
  ]
}